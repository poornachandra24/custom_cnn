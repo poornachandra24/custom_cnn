{
  "nbformat": 4,
  "nbformat_minor": 0,
  "metadata": {
    "colab": {
      "provenance": [],
      "gpuType": "T4",
      "authorship_tag": "ABX9TyMT+viFnnCAsEvvo1/QQfiW",
      "include_colab_link": true
    },
    "kernelspec": {
      "name": "python3",
      "display_name": "Python 3"
    },
    "language_info": {
      "name": "python"
    },
    "accelerator": "GPU"
  },
  "cells": [
    {
      "cell_type": "markdown",
      "metadata": {
        "id": "view-in-github",
        "colab_type": "text"
      },
      "source": [
        "<a href=\"https://colab.research.google.com/github/poornachandra24/custom_cnn/blob/main/custom_zfnet.ipynb\" target=\"_parent\"><img src=\"https://colab.research.google.com/assets/colab-badge.svg\" alt=\"Open In Colab\"/></a>"
      ]
    },
    {
      "cell_type": "code",
      "source": [
        "# Avoid OOM errors by setting GPU Memory Consumption Growth\n",
        "import tensorflow as tf\n",
        "gpus = tf.config.experimental.list_physical_devices('GPU')\n",
        "for gpu in gpus:\n",
        "    tf.config.experimental.set_memory_growth(gpu, True)\n",
        "tf.config.list_physical_devices('GPU')"
      ],
      "metadata": {
        "colab": {
          "base_uri": "https://localhost:8080/"
        },
        "id": "r7F-xSC40z9q",
        "outputId": "a91d844a-513f-4250-ce5b-e87ef4b5d24d"
      },
      "execution_count": 1,
      "outputs": [
        {
          "output_type": "execute_result",
          "data": {
            "text/plain": [
              "[PhysicalDevice(name='/physical_device:GPU:0', device_type='GPU')]"
            ]
          },
          "metadata": {},
          "execution_count": 1
        }
      ]
    },
    {
      "cell_type": "code",
      "source": [
        "from google.colab import drive\n",
        "drive.mount('/content/drive')"
      ],
      "metadata": {
        "colab": {
          "base_uri": "https://localhost:8080/"
        },
        "id": "dDpirGAdwg15",
        "outputId": "6c5a92d4-af53-45c8-a771-153bf1c95d3e"
      },
      "execution_count": 2,
      "outputs": [
        {
          "output_type": "stream",
          "name": "stdout",
          "text": [
            "Mounted at /content/drive\n"
          ]
        }
      ]
    },
    {
      "cell_type": "code",
      "execution_count": 3,
      "metadata": {
        "id": "Hc6JGuUlwWDm"
      },
      "outputs": [],
      "source": [
        "import tensorflow.keras as keras\n",
        "from tensorflow.keras import models\n",
        "from tensorflow.keras import layers\n",
        "from tensorflow.keras.layers import Conv2D, MaxPooling2D, Dense, Flatten, Dropout,BatchNormalization\n",
        "from tensorflow.keras import optimizers\n",
        "import tensorflow as tf\n",
        "from keras.utils import np_utils\n",
        "from keras.models import load_model\n",
        "\n",
        "from keras.preprocessing import image\n",
        "import numpy as np\n",
        "import matplotlib.pyplot as plt\n",
        "import tensorflow as tf\n",
        "import os\n",
        "from pathlib import Path\n",
        "import os.path\n",
        "from sklearn.model_selection import train_test_split\n",
        "import pandas as pd"
      ]
    },
    {
      "cell_type": "code",
      "source": [
        "'''import zipfile\n",
        "zip_ref = zipfile.ZipFile('/content/drive/MyDrive/Dataset.zip','r')\n",
        "zip_ref.extractall('/content/drive/MyDrive')\n",
        "zip_ref.close()'''\n"
      ],
      "metadata": {
        "id": "05OEObYdVL63"
      },
      "execution_count": null,
      "outputs": []
    },
    {
      "cell_type": "code",
      "source": [
        "image_dir = Path('/content/drive/MyDrive/Dataset')"
      ],
      "metadata": {
        "id": "mHfYVEDMUQqe"
      },
      "execution_count": 4,
      "outputs": []
    },
    {
      "cell_type": "code",
      "source": [
        "filepaths = list(image_dir.glob(r'**/*.jpg'))"
      ],
      "metadata": {
        "id": "ar7EC9FmUXZF"
      },
      "execution_count": 5,
      "outputs": []
    },
    {
      "cell_type": "code",
      "source": [
        "labels = list(map(lambda x: os.path.split(os.path.split(x)[0])[1], filepaths))"
      ],
      "metadata": {
        "id": "t2oMK9xKUo3c"
      },
      "execution_count": 6,
      "outputs": []
    },
    {
      "cell_type": "code",
      "source": [
        "filepaths = pd.Series(filepaths, name='Filepath').astype(str)\n",
        "labels = pd.Series(labels, name='Label')\n",
        "images = pd.concat([filepaths,labels], axis=1)"
      ],
      "metadata": {
        "id": "u6RcBoLCUrLl"
      },
      "execution_count": 7,
      "outputs": []
    },
    {
      "cell_type": "code",
      "source": [
        "labels.value_counts()"
      ],
      "metadata": {
        "colab": {
          "base_uri": "https://localhost:8080/"
        },
        "id": "RIpZtriNUzvd",
        "outputId": "932b2398-03dc-447c-eb5e-12b389e0249a"
      },
      "execution_count": 8,
      "outputs": [
        {
          "output_type": "execute_result",
          "data": {
            "text/plain": [
              "Healthy      2981\n",
              "Corrosion    2807\n",
              "Cracks       2537\n",
              "Name: Label, dtype: int64"
            ]
          },
          "metadata": {},
          "execution_count": 8
        }
      ]
    },
    {
      "cell_type": "code",
      "source": [
        "X, Y = train_test_split(images, train_size=0.7, shuffle=True, random_state=1)"
      ],
      "metadata": {
        "id": "qVkVJOV3U5tp"
      },
      "execution_count": 9,
      "outputs": []
    },
    {
      "cell_type": "code",
      "source": [
        "import tensorflow as tf\n",
        "\n",
        "# Define ImageDataGenerator for training data with augmentation\n",
        "train_generator = tf.keras.preprocessing.image.ImageDataGenerator(\n",
        "    rotation_range=20,\n",
        "    width_shift_range=0.2,\n",
        "    height_shift_range=0.2,\n",
        "    shear_range=0.2,\n",
        "    zoom_range=0.2,\n",
        "    horizontal_flip=True,\n",
        "    vertical_flip=True,\n",
        "    fill_mode='nearest',\n",
        "\n",
        "    validation_split=0.2  # This indicates the split ratio for validation\n",
        ")\n",
        "\n",
        "# Define ImageDataGenerator for testing data with the same augmentation\n",
        "test_generator = tf.keras.preprocessing.image.ImageDataGenerator(\n",
        "    rotation_range=20,\n",
        "    width_shift_range=0.2,\n",
        "    height_shift_range=0.2,\n",
        "    shear_range=0.2,\n",
        "    zoom_range=0.2,\n",
        "    horizontal_flip=True,\n",
        "    vertical_flip=True,\n",
        "    fill_mode='nearest',\n",
        "\n",
        ")\n"
      ],
      "metadata": {
        "id": "5F3cMzOGXIO8"
      },
      "execution_count": 10,
      "outputs": []
    },
    {
      "cell_type": "code",
      "source": [
        "train_images = train_generator.flow_from_dataframe(dataframe = X, x_col='Filepath', y_col='Label',\n",
        "                                    target_size = (224,224), color_mode='rgb',\n",
        "                                    class_mode='categorical', batch_size=32, shuffle=True,\n",
        "                                                   seed=42, subset='training')\n",
        "\n",
        "val_images = train_generator.flow_from_dataframe(dataframe = X, x_col='Filepath', y_col='Label',\n",
        "                                    target_size = (224,224), color_mode='rgb',\n",
        "                                    class_mode='categorical', batch_size=32, shuffle=True,\n",
        "                                                   seed=42, subset='validation')\n",
        "\n",
        "test_images = test_generator.flow_from_dataframe(dataframe = Y, x_col='Filepath', y_col='Label',\n",
        "                                    target_size = (224,224), color_mode='rgb',\n",
        "                                    class_mode='categorical', batch_size=32, shuffle=False)"
      ],
      "metadata": {
        "colab": {
          "base_uri": "https://localhost:8080/"
        },
        "id": "cTRoSA1YXvj7",
        "outputId": "811bc4bf-9ed6-47c0-d66f-dc5be2122054"
      },
      "execution_count": 11,
      "outputs": [
        {
          "output_type": "stream",
          "name": "stdout",
          "text": [
            "Found 4662 validated image filenames belonging to 3 classes.\n",
            "Found 1165 validated image filenames belonging to 3 classes.\n",
            "Found 2498 validated image filenames belonging to 3 classes.\n"
          ]
        }
      ]
    },
    {
      "cell_type": "code",
      "source": [
        "from keras.callbacks import ModelCheckpoint, EarlyStopping\n",
        "mc = ModelCheckpoint (filepath= \"./best_model.h5\",monitor=\"val_acc\",verbose=1,save_best_only= True)\n",
        "es = EarlyStopping (monitor= \"val_acc\",min_delta= 0.01,patience= 5,verbose= 1)\n",
        "cb = [mc, es]"
      ],
      "metadata": {
        "id": "4bmVCtkSLh9Y"
      },
      "execution_count": 12,
      "outputs": []
    },
    {
      "cell_type": "code",
      "source": [
        "# Define the Custom-CNN architecture\n",
        "model = models.Sequential()\n",
        "\n",
        "# Conv1\n",
        "model.add(layers.Conv2D(64, (3, 3), activation='relu', input_shape=(224, 224, 3)))\n",
        "model.add(layers.MaxPooling2D((2, 2)))\n",
        "\n",
        "# Conv2\n",
        "model.add(layers.Conv2D(64, (3, 3), activation='relu'))\n",
        "model.add(layers.MaxPooling2D((2, 2)))\n",
        "\n",
        "# Conv3\n",
        "model.add(layers.Conv2D(64, (3, 3), activation='relu'))\n",
        "model.add(layers.MaxPooling2D((2, 2)))\n",
        "\n",
        "# Conv4\n",
        "model.add(layers.Conv2D(128, (3, 3), activation='relu'))\n",
        "model.add(layers.MaxPooling2D((2, 2)))\n",
        "\n",
        "# Conv5\n",
        "model.add(layers.Conv2D(128, (3, 3), activation='relu'))\n",
        "model.add(layers.MaxPooling2D((2, 2)))\n",
        "\n",
        "# Flatten\n",
        "model.add(layers.Flatten())\n",
        "\n",
        "# FC1\n",
        "model.add(layers.Dense(128, activation='relu'))\n",
        "\n",
        "# FC2\n",
        "model.add(layers.Dense(128, activation='relu'))\n",
        "\n",
        "# FC3\n",
        "model.add(layers.Dense(64, activation='relu'))\n",
        "\n",
        "# FC4\n",
        "model.add(layers.Dense(3, activation='softmax'))  # 3 classes\n",
        "\n",
        "model.summary()"
      ],
      "metadata": {
        "id": "gP-R-cUvLonX",
        "colab": {
          "base_uri": "https://localhost:8080/"
        },
        "outputId": "4b20397d-d418-4062-bc31-7496243f40ed"
      },
      "execution_count": 15,
      "outputs": [
        {
          "output_type": "stream",
          "name": "stdout",
          "text": [
            "Model: \"sequential_2\"\n",
            "_________________________________________________________________\n",
            " Layer (type)                Output Shape              Param #   \n",
            "=================================================================\n",
            " conv2d_9 (Conv2D)           (None, 222, 222, 64)      1792      \n",
            "                                                                 \n",
            " max_pooling2d_10 (MaxPoolin  (None, 111, 111, 64)     0         \n",
            " g2D)                                                            \n",
            "                                                                 \n",
            " conv2d_10 (Conv2D)          (None, 109, 109, 64)      36928     \n",
            "                                                                 \n",
            " max_pooling2d_11 (MaxPoolin  (None, 54, 54, 64)       0         \n",
            " g2D)                                                            \n",
            "                                                                 \n",
            " conv2d_11 (Conv2D)          (None, 52, 52, 64)        36928     \n",
            "                                                                 \n",
            " max_pooling2d_12 (MaxPoolin  (None, 26, 26, 64)       0         \n",
            " g2D)                                                            \n",
            "                                                                 \n",
            " conv2d_12 (Conv2D)          (None, 24, 24, 128)       73856     \n",
            "                                                                 \n",
            " max_pooling2d_13 (MaxPoolin  (None, 12, 12, 128)      0         \n",
            " g2D)                                                            \n",
            "                                                                 \n",
            " conv2d_13 (Conv2D)          (None, 10, 10, 128)       147584    \n",
            "                                                                 \n",
            " max_pooling2d_14 (MaxPoolin  (None, 5, 5, 128)        0         \n",
            " g2D)                                                            \n",
            "                                                                 \n",
            " flatten_2 (Flatten)         (None, 3200)              0         \n",
            "                                                                 \n",
            " dense_6 (Dense)             (None, 128)               409728    \n",
            "                                                                 \n",
            " dense_7 (Dense)             (None, 128)               16512     \n",
            "                                                                 \n",
            " dense_8 (Dense)             (None, 64)                8256      \n",
            "                                                                 \n",
            " dense_9 (Dense)             (None, 3)                 195       \n",
            "                                                                 \n",
            "=================================================================\n",
            "Total params: 731,779\n",
            "Trainable params: 731,779\n",
            "Non-trainable params: 0\n",
            "_________________________________________________________________\n"
          ]
        }
      ]
    },
    {
      "cell_type": "code",
      "source": [
        "\n",
        "model.compile('adam',\n",
        "    loss='categorical_crossentropy',\n",
        "    metrics=['acc'])\n",
        "\n"
      ],
      "metadata": {
        "id": "7sPH1yWu1xht"
      },
      "execution_count": 16,
      "outputs": []
    },
    {
      "cell_type": "code",
      "source": [
        "hist = model.fit(train_images, epochs=50, validation_data=val_images ,batch_size= 32, callbacks=[cb] )"
      ],
      "metadata": {
        "colab": {
          "base_uri": "https://localhost:8080/"
        },
        "id": "5Ma6NP40yPaE",
        "outputId": "34346c1e-76e7-447b-9324-1103c3e89bee"
      },
      "execution_count": 17,
      "outputs": [
        {
          "output_type": "stream",
          "name": "stdout",
          "text": [
            "Epoch 1/50\n",
            "146/146 [==============================] - ETA: 0s - loss: 0.2430 - acc: 0.9224 \n",
            "Epoch 1: val_acc improved from -inf to 0.92103, saving model to ./best_model.h5\n",
            "146/146 [==============================] - 4722s 32s/step - loss: 0.2430 - acc: 0.9224 - val_loss: 0.2546 - val_acc: 0.9210\n",
            "Epoch 2/50\n",
            "146/146 [==============================] - ETA: 0s - loss: 0.1319 - acc: 0.9597\n",
            "Epoch 2: val_acc improved from 0.92103 to 0.96481, saving model to ./best_model.h5\n",
            "146/146 [==============================] - 85s 579ms/step - loss: 0.1319 - acc: 0.9597 - val_loss: 0.1124 - val_acc: 0.9648\n",
            "Epoch 3/50\n",
            "146/146 [==============================] - ETA: 0s - loss: 0.1175 - acc: 0.9640\n",
            "Epoch 3: val_acc improved from 0.96481 to 0.97253, saving model to ./best_model.h5\n",
            "146/146 [==============================] - 85s 580ms/step - loss: 0.1175 - acc: 0.9640 - val_loss: 0.0754 - val_acc: 0.9725\n",
            "Epoch 4/50\n",
            "146/146 [==============================] - ETA: 0s - loss: 0.0924 - acc: 0.9732\n",
            "Epoch 4: val_acc did not improve from 0.97253\n",
            "146/146 [==============================] - 85s 581ms/step - loss: 0.0924 - acc: 0.9732 - val_loss: 0.1192 - val_acc: 0.9639\n",
            "Epoch 5/50\n",
            "146/146 [==============================] - ETA: 0s - loss: 0.0779 - acc: 0.9760\n",
            "Epoch 5: val_acc did not improve from 0.97253\n",
            "146/146 [==============================] - 85s 583ms/step - loss: 0.0779 - acc: 0.9760 - val_loss: 0.0843 - val_acc: 0.9682\n",
            "Epoch 6/50\n",
            "146/146 [==============================] - ETA: 0s - loss: 0.0824 - acc: 0.9770\n",
            "Epoch 6: val_acc did not improve from 0.97253\n",
            "146/146 [==============================] - 90s 615ms/step - loss: 0.0824 - acc: 0.9770 - val_loss: 0.0844 - val_acc: 0.9691\n",
            "Epoch 7/50\n",
            "146/146 [==============================] - ETA: 0s - loss: 0.0745 - acc: 0.9777\n",
            "Epoch 7: val_acc improved from 0.97253 to 0.97854, saving model to ./best_model.h5\n",
            "146/146 [==============================] - 86s 588ms/step - loss: 0.0745 - acc: 0.9777 - val_loss: 0.1038 - val_acc: 0.9785\n",
            "Epoch 8/50\n",
            "146/146 [==============================] - ETA: 0s - loss: 0.0738 - acc: 0.9779\n",
            "Epoch 8: val_acc did not improve from 0.97854\n",
            "146/146 [==============================] - 84s 578ms/step - loss: 0.0738 - acc: 0.9779 - val_loss: 0.0743 - val_acc: 0.9725\n",
            "Epoch 9/50\n",
            "146/146 [==============================] - ETA: 0s - loss: 0.0612 - acc: 0.9820\n",
            "Epoch 9: val_acc improved from 0.97854 to 0.98026, saving model to ./best_model.h5\n",
            "146/146 [==============================] - 85s 585ms/step - loss: 0.0612 - acc: 0.9820 - val_loss: 0.0497 - val_acc: 0.9803\n",
            "Epoch 10/50\n",
            "146/146 [==============================] - ETA: 0s - loss: 0.0706 - acc: 0.9798\n",
            "Epoch 10: val_acc did not improve from 0.98026\n",
            "146/146 [==============================] - 84s 573ms/step - loss: 0.0706 - acc: 0.9798 - val_loss: 0.0755 - val_acc: 0.9768\n",
            "Epoch 11/50\n",
            "146/146 [==============================] - ETA: 0s - loss: 0.0693 - acc: 0.9807\n",
            "Epoch 11: val_acc did not improve from 0.98026\n",
            "146/146 [==============================] - 87s 595ms/step - loss: 0.0693 - acc: 0.9807 - val_loss: 0.0606 - val_acc: 0.9760\n",
            "Epoch 12/50\n",
            "146/146 [==============================] - ETA: 0s - loss: 0.0703 - acc: 0.9794\n",
            "Epoch 12: val_acc did not improve from 0.98026\n",
            "146/146 [==============================] - 84s 576ms/step - loss: 0.0703 - acc: 0.9794 - val_loss: 0.1119 - val_acc: 0.9639\n",
            "Epoch 12: early stopping\n"
          ]
        }
      ]
    },
    {
      "cell_type": "code",
      "source": [
        "#plotting accuracy\n",
        "fig = plt.figure()\n",
        "plt.plot(hist.history['acc'], color='teal', label='training_accuracy')\n",
        "plt.plot(hist.history['val_acc'], color='orange', label='val_accuracy')\n",
        "fig.suptitle('Accuracy', fontsize=20)\n",
        "plt.legend(loc=\"upper left\")\n",
        "plt.show()"
      ],
      "metadata": {
        "colab": {
          "base_uri": "https://localhost:8080/",
          "height": 478
        },
        "id": "UWxWe-zVzyUe",
        "outputId": "54cbd1d0-6b85-4d81-e633-ce68a626a760"
      },
      "execution_count": 18,
      "outputs": [
        {
          "output_type": "display_data",
          "data": {
            "text/plain": [
              "<Figure size 640x480 with 1 Axes>"
            ],
            "image/png": "[encoded data removed]"
          },
          "metadata": {}
        }
      ]
    },
    {
      "cell_type": "code",
      "source": [
        "#plotting loss\n",
        "fig = plt.figure()\n",
        "plt.plot(hist.history['loss'], color='teal', label='training_loss')\n",
        "plt.plot(hist.history['val_loss'], color='orange', label='val_loss')\n",
        "fig.suptitle('Loss', fontsize=20)\n",
        "plt.legend(loc=\"upper left\")\n",
        "plt.show()"
      ],
      "metadata": {
        "colab": {
          "base_uri": "https://localhost:8080/",
          "height": 478
        },
        "id": "wCQRsJVvz3hb",
        "outputId": "0f7420a5-158e-4076-aedf-5d304f1c8ffc"
      },
      "execution_count": 19,
      "outputs": [
        {
          "output_type": "display_data",
          "data": {
            "text/plain": [
              "<Figure size 640x480 with 1 Axes>"
            ],
            "image/png": "[encoded data removed]"
          },
          "metadata": {}
        }
      ]
    },
    {
      "cell_type": "code",
      "source": [
        "results = model.evaluate(test_images, verbose=1)\n",
        "print('Test Accuracy: {:.2f}%'.format(results[1]*100))"
      ],
      "metadata": {
        "colab": {
          "base_uri": "https://localhost:8080/"
        },
        "id": "njhQ_Ax7Ng5x",
        "outputId": "8a5c7dde-37d2-4a1e-8869-de09079b383b"
      },
      "execution_count": 21,
      "outputs": [
        {
          "output_type": "stream",
          "name": "stdout",
          "text": [
            "79/79 [==============================] - 1851s 24s/step - loss: 0.0989 - acc: 0.9688\n",
            "Test Accuracy: 96.88%\n"
          ]
        }
      ]
    },
    {
      "cell_type": "code",
      "source": [
        "import seaborn as sns\n",
        "from sklearn.metrics import classification_report, confusion_matrix\n",
        "predictions = np.argmax(model.predict(test_images),axis=1)\n",
        "cm = confusion_matrix(test_images.labels, predictions)\n",
        "clr = classification_report(test_images.labels, predictions, target_names=test_images.class_indices)"
      ],
      "metadata": {
        "colab": {
          "base_uri": "https://localhost:8080/"
        },
        "id": "bq2iqec3M0bE",
        "outputId": "62f1d0e2-753a-452f-cca4-ca20ccdb1fda"
      },
      "execution_count": 22,
      "outputs": [
        {
          "output_type": "stream",
          "name": "stdout",
          "text": [
            "79/79 [==============================] - 34s 431ms/step\n"
          ]
        }
      ]
    },
    {
      "cell_type": "code",
      "source": [
        "plt.figure(figsize=(5,5))\n",
        "sns.heatmap(cm, annot=True, fmt='g', vmin=0, cmap='Blues', cbar = False)\n",
        "plt.xticks(ticks=np.arange(3)+0.5, labels=test_images.class_indices, rotation=90)\n",
        "plt.yticks(ticks=np.arange(3)+0.5, labels=test_images.class_indices, rotation=0)\n",
        "plt.xlabel('Predicted')\n",
        "plt.ylabel('Actual')\n",
        "plt.title('Confusion Matrix')\n",
        "plt.show()"
      ],
      "metadata": {
        "colab": {
          "base_uri": "https://localhost:8080/",
          "height": 539
        },
        "id": "5jFUu-EFTS6G",
        "outputId": "34deed5b-3bd0-47bf-db6e-156f20d32d6f"
      },
      "execution_count": 23,
      "outputs": [
        {
          "output_type": "display_data",
          "data": {
            "text/plain": [
              "<Figure size 500x500 with 1 Axes>"
            ],
            "image/png": "[encoded data removed]"
          },
          "metadata": {}
        }
      ]
    },
    {
      "cell_type": "code",
      "source": [
        "print('Classification Report:\\n----------------------\\n', clr)"
      ],
      "metadata": {
        "colab": {
          "base_uri": "https://localhost:8080/"
        },
        "id": "ybNG8jeqTvju",
        "outputId": "a1c685c8-8633-416a-8cf4-c894fbd849b7"
      },
      "execution_count": 24,
      "outputs": [
        {
          "output_type": "stream",
          "name": "stdout",
          "text": [
            "Classification Report:\n",
            "----------------------\n",
            "               precision    recall  f1-score   support\n",
            "\n",
            "   Corrosion       0.93      1.00      0.96       838\n",
            "      Cracks       1.00      0.91      0.95       782\n",
            "     Healthy       0.97      1.00      0.98       878\n",
            "\n",
            "    accuracy                           0.97      2498\n",
            "   macro avg       0.97      0.97      0.97      2498\n",
            "weighted avg       0.97      0.97      0.97      2498\n",
            "\n"
          ]
        }
      ]
    }
  ]
}